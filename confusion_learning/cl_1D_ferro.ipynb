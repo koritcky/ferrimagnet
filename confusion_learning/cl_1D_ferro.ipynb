{
 "cells": [
  {
   "cell_type": "code",
   "execution_count": 1,
   "metadata": {
    "ExecuteTime": {
     "end_time": "2020-07-29T11:45:31.920718Z",
     "start_time": "2020-07-29T11:45:29.078999Z"
    },
    "scrolled": true
   },
   "outputs": [
    {
     "name": "stdout",
     "output_type": "stream",
     "text": [
      "The autoreload extension is already loaded. To reload it, use:\n",
      "  %reload_ext autoreload\n"
     ]
    }
   ],
   "source": [
    "import os, sys\n",
    "os.chdir('/home/koritskiy/rqc/ferrimagnet')\n",
    "\n",
    "from mpl_toolkits.mplot3d import axes3d\n",
    "import matplotlib.pyplot as plt\n",
    "\n",
    "from confusion_learning.energy import *\n",
    "from confusion_learning.modules_1D_ferro import *\n",
    "\n",
    "\n",
    "from tqdm.notebook import tqdm\n",
    "np.set_printoptions(suppress=True)\n",
    "%load_ext autoreload\n",
    "%autoreload 2"
   ]
  },
  {
   "cell_type": "code",
   "execution_count": 3,
   "metadata": {
    "ExecuteTime": {
     "end_time": "2020-07-29T13:34:06.831156Z",
     "start_time": "2020-07-29T13:34:06.785432Z"
    }
   },
   "outputs": [],
   "source": [
    "def hysteresis(a, b, theta):\n",
    "    return a * np.cos(theta) + b * (np.sin(theta)) ** 2"
   ]
  },
  {
   "cell_type": "code",
   "execution_count": 6,
   "metadata": {
    "ExecuteTime": {
     "end_time": "2020-07-29T13:34:59.300934Z",
     "start_time": "2020-07-29T13:34:59.246558Z"
    }
   },
   "outputs": [
    {
     "ename": "TypeError",
     "evalue": "mainloop() got an unexpected keyword argument 'energy_function'",
     "output_type": "error",
     "traceback": [
      "\u001b[0;31m---------------------------------------------------------------------------\u001b[0m",
      "\u001b[0;31mTypeError\u001b[0m                                 Traceback (most recent call last)",
      "\u001b[0;32m<ipython-input-6-742bbc379e17>\u001b[0m in \u001b[0;36m<module>\u001b[0;34m\u001b[0m\n\u001b[1;32m      1\u001b[0m \u001b[0mX\u001b[0m \u001b[0;34m=\u001b[0m \u001b[0mnp\u001b[0m\u001b[0;34m.\u001b[0m\u001b[0mlinspace\u001b[0m\u001b[0;34m(\u001b[0m\u001b[0;36m0\u001b[0m\u001b[0;34m,\u001b[0m \u001b[0;36m1\u001b[0m\u001b[0;34m,\u001b[0m \u001b[0;36m100\u001b[0m\u001b[0;34m)\u001b[0m\u001b[0;34m\u001b[0m\u001b[0;34m\u001b[0m\u001b[0m\n\u001b[1;32m      2\u001b[0m \u001b[0mh\u001b[0m \u001b[0;34m=\u001b[0m \u001b[0;36m80\u001b[0m \u001b[0;34m*\u001b[0m \u001b[0;34m(\u001b[0m\u001b[0;36m10\u001b[0m \u001b[0;34m**\u001b[0m \u001b[0;36m3\u001b[0m\u001b[0;34m)\u001b[0m\u001b[0;34m\u001b[0m\u001b[0;34m\u001b[0m\u001b[0m\n\u001b[0;32m----> 3\u001b[0;31m \u001b[0mZ\u001b[0m \u001b[0;34m=\u001b[0m \u001b[0mmainloop\u001b[0m\u001b[0;34m(\u001b[0m\u001b[0mX\u001b[0m\u001b[0;34m,\u001b[0m \u001b[0mh\u001b[0m\u001b[0;34m,\u001b[0m \u001b[0msamples\u001b[0m\u001b[0;34m=\u001b[0m\u001b[0;36m1\u001b[0m\u001b[0;34m,\u001b[0m \u001b[0mn_thetas\u001b[0m\u001b[0;34m=\u001b[0m\u001b[0;36m100\u001b[0m\u001b[0;34m,\u001b[0m \u001b[0menergy_function\u001b[0m\u001b[0;34m=\u001b[0m\u001b[0mhysteresis\u001b[0m\u001b[0;34m)\u001b[0m\u001b[0;34m\u001b[0m\u001b[0;34m\u001b[0m\u001b[0m\n\u001b[0m\u001b[1;32m      4\u001b[0m \u001b[0;34m\u001b[0m\u001b[0m\n\u001b[1;32m      5\u001b[0m \u001b[0mpath\u001b[0m \u001b[0;34m=\u001b[0m \u001b[0;34m'confusion_learning/results/1d/'\u001b[0m\u001b[0;34m\u001b[0m\u001b[0;34m\u001b[0m\u001b[0m\n",
      "\u001b[0;31mTypeError\u001b[0m: mainloop() got an unexpected keyword argument 'energy_function'"
     ]
    }
   ],
   "source": [
    "X = np.linspace(0, 1, 100)\n",
    "h = 80 * (10 ** 3)\n",
    "Z = mainloop(X, h, samples=1, n_thetas=100, energy_function=hysteresis)\n",
    "\n",
    "path = 'confusion_learning/results/1d/'\n",
    "np.savetxt(path + 'H.dat', X)\n",
    "np.savetxt(path + 'Z.dat', Z)"
   ]
  },
  {
   "cell_type": "code",
   "execution_count": 34,
   "metadata": {
    "ExecuteTime": {
     "end_time": "2020-07-23T11:37:53.901228Z",
     "start_time": "2020-07-23T11:37:53.677381Z"
    }
   },
   "outputs": [
    {
     "data": {
      "text/plain": [
       "[<matplotlib.lines.Line2D at 0x7f56538ffad0>]"
      ]
     },
     "execution_count": 34,
     "metadata": {},
     "output_type": "execute_result"
    },
    {
     "data": {
      "image/png": "[encoded data removed]",
      "text/plain": [
       "<Figure size 432x288 with 1 Axes>"
      ]
     },
     "metadata": {
      "needs_background": "light"
     },
     "output_type": "display_data"
    }
   ],
   "source": [
    "x = 0.33\n",
    "h = 100 * (10 ** 3)\n",
    "n_thetas = 100\n",
    "Y = energy_gen(x, h, n_thetas, energy_function=hysterezis)\n",
    "X = np.linspace(0, 2 * np.pi, n_thetas)\n",
    "energy_max = np.max(Y)\n",
    "energy_min = np.min(Y) \n",
    "plt.plot(X, Y)"
   ]
  },
  {
   "cell_type": "markdown",
   "metadata": {
    "ExecuteTime": {
     "end_time": "2020-07-20T15:26:44.683444Z",
     "start_time": "2020-07-20T15:26:44.637373Z"
    }
   },
   "source": [
    "#### path = 'confusion_learning/results/1d/'\n",
    "np.savetxt(path + 'H.dat', H)\n",
    "np.savetxt(path + 'Z.dat', Z)"
   ]
  },
  {
   "cell_type": "code",
   "execution_count": null,
   "metadata": {
    "ExecuteTime": {
     "end_time": "2020-07-16T12:27:18.800565Z",
     "start_time": "2020-07-16T12:27:16.092Z"
    }
   },
   "outputs": [],
   "source": [
    "X_params = np.linspace(bounds[0], bounds[1], X_dots_number)\n",
    "Y_params = np.linspace(bounds[0], bounds[1], Y_dots_number)\n",
    "\n",
    "    \n",
    "Z = np.zeros((X_dots_number, Y_dots_number))\n",
    "for i, y in enumerate(Y_params):\n",
    "    Z[:, i] = step_gen(X_params, y, transition=p_true, k=-0.5).reshape(X_dots_number)\n",
    "                        \n",
    "np.savetxt('results/t_X_params.dat', X_params)\n",
    "np.savetxt('results/t_Y_params.dat', Y_params)\n",
    "np.savetxt('results/t_Z.dat', Z)"
   ]
  },
  {
   "cell_type": "code",
   "execution_count": null,
   "metadata": {
    "ExecuteTime": {
     "end_time": "2020-07-16T12:27:18.801870Z",
     "start_time": "2020-07-16T12:27:16.094Z"
    }
   },
   "outputs": [],
   "source": [
    "test = np.array([[1,2],[3,4]])\n",
    "np.savetxt('results/test.dat', test)"
   ]
  },
  {
   "cell_type": "code",
   "execution_count": null,
   "metadata": {
    "ExecuteTime": {
     "end_time": "2020-07-16T12:27:18.802901Z",
     "start_time": "2020-07-16T12:27:16.097Z"
    }
   },
   "outputs": [],
   "source": [
    "plot_wshape(X_params, Y_params, Z)"
   ]
  },
  {
   "cell_type": "code",
   "execution_count": null,
   "metadata": {
    "ExecuteTime": {
     "end_time": "2020-07-16T12:27:18.803992Z",
     "start_time": "2020-07-16T12:27:16.099Z"
    },
    "scrolled": true
   },
   "outputs": [],
   "source": [
    "dots_number = 20\n",
    "\n",
    "X_params = np.linspace(bounds[0], bounds[1], dots_number)\n",
    "Y_params = np.linspace(bounds[0], bounds[1], dots_number)\n",
    "\n",
    "print(X_params.shape)\n",
    "\n",
    "X, Y = np.meshgrid(X_params, Y_params)\n",
    "Z = []\n",
    "for i, y in enumerate(Y_params):\n",
    "    Z.append(step_gen(X_params, y, transition=p_true, k=100))\n",
    "Z = np.array(Z).reshape(X.shape[0], Y.shape[0])\n",
    "fig = plt.figure()\n",
    "ax = fig.add_subplot(111, projection='3d')\n",
    "\n",
    "# Grab some test data.\n",
    "# X, Y, Z = axes3d.get_test_data(0.05)\n",
    "\n",
    "# Plot a basic wireframe.\n",
    "ax.plot_wireframe(X, Y, Z)\n",
    "\n",
    "plt.show()"
   ]
  },
  {
   "cell_type": "code",
   "execution_count": null,
   "metadata": {
    "ExecuteTime": {
     "end_time": "2020-07-16T12:27:18.806393Z",
     "start_time": "2020-07-16T12:27:16.101Z"
    }
   },
   "outputs": [],
   "source": [
    "X_dots_number = 100\n",
    "Y_dots_number = 50\n",
    "p_true = 0\n",
    "X_params = np.linspace(bounds[0], bounds[1], X_dots_number)\n",
    "Y_params = np.linspace(bounds[0], bounds[1], Y_dots_number)\n",
    "\n",
    "\n",
    "Z = np.zeros((X_dots_number, Y_dots_number))\n",
    "for i, y in enumerate(Y_params):\n",
    "    Z[:, i] = step_gen(X_params, y, transition=p_true, k=-1).reshape(X_dots_number)\n",
    "                        \n",
    "np.savetxt('results/t_X_params.dat', X_params)\n",
    "np.savetxt('results/t_Y_params.dat', Y_params)\n",
    "np.savetxt('results/t_Z.dat', Z)"
   ]
  },
  {
   "cell_type": "code",
   "execution_count": null,
   "metadata": {
    "ExecuteTime": {
     "end_time": "2020-07-16T12:27:18.807459Z",
     "start_time": "2020-07-16T12:27:16.104Z"
    }
   },
   "outputs": [],
   "source": [
    "X_theory = [-1, -1/2, 0, 1/2, 1]\n",
    "Y_theory = [1, 0.75, 1, 0.75, 1]\n",
    "plot_wshape(out,(X_theory, Y_theory), bar_flag=False)"
   ]
  },
  {
   "cell_type": "code",
   "execution_count": null,
   "metadata": {
    "ExecuteTime": {
     "end_time": "2020-07-16T12:27:18.809078Z",
     "start_time": "2020-07-16T12:27:16.106Z"
    }
   },
   "outputs": [],
   "source": [
    "X_theory = [-1, -3/4, -1/2, 1/4, 1]\n",
    "Y_theory = [1, 0.75, 1, 0.75, 1]\n",
    "plot_wshape(out,(X_theory, Y_theory), bar_flag=True)"
   ]
  },
  {
   "cell_type": "code",
   "execution_count": null,
   "metadata": {},
   "outputs": [],
   "source": []
  },
  {
   "cell_type": "code",
   "execution_count": null,
   "metadata": {},
   "outputs": [],
   "source": []
  }
 ],
 "metadata": {
  "kernelspec": {
   "display_name": "Python (hamiltonian_learning)",
   "language": "python",
   "name": "hamiltonian_learning"
  },
  "language_info": {
   "codemirror_mode": {
    "name": "ipython",
    "version": 3
   },
   "file_extension": ".py",
   "mimetype": "text/x-python",
   "name": "python",
   "nbconvert_exporter": "python",
   "pygments_lexer": "ipython3",
   "version": "3.7.4"
  },
  "latex_envs": {
   "LaTeX_envs_menu_present": true,
   "autoclose": false,
   "autocomplete": true,
   "bibliofile": "biblio.bib",
   "cite_by": "apalike",
   "current_citInitial": 1,
   "eqLabelWithNumbers": true,
   "eqNumInitial": 1,
   "hotkeys": {
    "equation": "Ctrl-E",
    "itemize": "Ctrl-I"
   },
   "labels_anchors": false,
   "latex_user_defs": false,
   "report_style_numbering": false,
   "user_envs_cfg": false
  },
  "varInspector": {
   "cols": {
    "lenName": 16,
    "lenType": 16,
    "lenVar": 40
   },
   "kernels_config": {
    "python": {
     "delete_cmd_postfix": "",
     "delete_cmd_prefix": "del ",
     "library": "var_list.py",
     "varRefreshCmd": "print(var_dic_list())"
    },
    "r": {
     "delete_cmd_postfix": ") ",
     "delete_cmd_prefix": "rm(",
     "library": "var_list.r",
     "varRefreshCmd": "cat(var_dic_list()) "
    }
   },
   "types_to_exclude": [
    "module",
    "function",
    "builtin_function_or_method",
    "instance",
    "_Feature"
   ],
   "window_display": false
  }
 },
 "nbformat": 4,
 "nbformat_minor": 2
}
