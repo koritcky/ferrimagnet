{
 "cells": [
  {
   "cell_type": "code",
   "execution_count": 1,
   "metadata": {
    "ExecuteTime": {
     "end_time": "2020-08-18T11:25:17.668479Z",
     "start_time": "2020-08-18T11:25:14.635944Z"
    },
    "scrolled": true
   },
   "outputs": [
    {
     "name": "stdout",
     "output_type": "stream",
     "text": [
      "The autoreload extension is already loaded. To reload it, use:\n",
      "  %reload_ext autoreload\n"
     ]
    },
    {
     "data": {
      "application/javascript": [
       "if (!(\"Notification\" in window)) {\n",
       "    alert(\"This browser does not support desktop notifications, so the %%notify magic will not work.\");\n",
       "} else if (Notification.permission !== 'granted' && Notification.permission !== 'denied') {\n",
       "    Notification.requestPermission(function (permission) {\n",
       "        if(!('permission' in Notification)) {\n",
       "            Notification.permission = permission;\n",
       "        }\n",
       "    })\n",
       "}\n"
      ],
      "text/plain": [
       "<IPython.core.display.Javascript object>"
      ]
     },
     "metadata": {},
     "output_type": "display_data"
    }
   ],
   "source": [
    "import os, sys, shutil\n",
    "os.chdir('/home/koritskiy/rqc/ferrimagnet')\n",
    "from datetime import datetime\n",
    "\n",
    "\n",
    "from mpl_toolkits.mplot3d import axes3d\n",
    "import matplotlib.pyplot as plt\n",
    "\n",
    "\n",
    "from confusion_learning.energy import *\n",
    "from confusion_learning.modules_2D_ferro import *\n",
    "\n",
    "\n",
    "from tqdm.notebook import tqdm\n",
    "np.set_printoptions(suppress=True)\n",
    "%load_ext autoreload\n",
    "%autoreload 2\n",
    "%load_ext jupyternotify\n",
    "%autonotify -a 5"
   ]
  },
  {
   "cell_type": "code",
   "execution_count": 2,
   "metadata": {
    "ExecuteTime": {
     "end_time": "2020-08-18T11:25:18.085820Z",
     "start_time": "2020-08-18T11:25:18.059278Z"
    }
   },
   "outputs": [],
   "source": [
    "def hysteresis(theta, a, b):\n",
    "    return a * (np.sin(theta)) ** 2 + b * np.cos(theta)"
   ]
  },
  {
   "cell_type": "code",
   "execution_count": 3,
   "metadata": {
    "ExecuteTime": {
     "end_time": "2020-08-18T11:25:18.510367Z",
     "start_time": "2020-08-18T11:25:18.471703Z"
    }
   },
   "outputs": [],
   "source": [
    "def flipped_hysteresis(theta, a, b):\n",
    "    \"\"\"a -> b, b -> a\"\"\"\n",
    "    return b * (np.sin(theta)) ** 2 + a * np.cos(theta)"
   ]
  },
  {
   "cell_type": "code",
   "execution_count": 4,
   "metadata": {
    "ExecuteTime": {
     "end_time": "2020-08-18T11:25:18.917924Z",
     "start_time": "2020-08-18T11:25:18.885826Z"
    }
   },
   "outputs": [],
   "source": [
    "def save(path):\n",
    "    # delete folder if exist\n",
    "    try:\n",
    "        shutil.rmtree(path)\n",
    "    except OSError:\n",
    "        pass\n",
    "    \n",
    "    os.mkdir(path)\n",
    "    \n",
    "    np.savetxt(path + 'A.dat', A)\n",
    "    np.savetxt(path + 'b.dat', b)\n",
    "    np.savetxt(path + 'C.dat', C)\n",
    "    np.savetxt(path + 'Z.dat', Z)\n",
    "    np.savetxt(path + 'Z_nearest.dat', Z_nearest)"
   ]
  },
  {
   "cell_type": "code",
   "execution_count": null,
   "metadata": {
    "ExecuteTime": {
     "start_time": "2020-08-18T12:24:13.502Z"
    },
    "scrolled": false
   },
   "outputs": [
    {
     "data": {
      "application/vnd.jupyter.widget-view+json": {
       "model_id": "6b081c16912c45ba901619eef72a9edf",
       "version_major": 2,
       "version_minor": 0
      },
      "text/plain": [
       "HBox(children=(FloatProgress(value=1.0, bar_style='info', max=1.0), HTML(value='')))"
      ]
     },
     "metadata": {},
     "output_type": "display_data"
    },
    {
     "data": {
      "application/vnd.jupyter.widget-view+json": {
       "model_id": "90f420f90ea2490a92ddce25e0e93544",
       "version_major": 2,
       "version_minor": 0
      },
      "text/plain": [
       "HBox(children=(FloatProgress(value=0.0, max=30.0), HTML(value='')))"
      ]
     },
     "metadata": {},
     "output_type": "display_data"
    }
   ],
   "source": [
    "# Model check\n",
    "\n",
    "n_A = 400  #dataset length\n",
    "n_thetas = 30 #number of probing thetas to find minimum\n",
    "n_samples = 30 #number of algorithms runs\n",
    "\n",
    "A = np.linspace(1, 3, n_A)\n",
    "b = np.array([1])\n",
    "Z, Z_nearest, C = mainloop(A, b, n_thetas, n_samples, energy_func=flipped_hysteresis)\n",
    "\n",
    "# date path\n",
    "time = datetime.today().strftime('%Y-%m-%d-%H:%M:%S')\n",
    "path = 'confusion_learning/results/hysteresis/' + time + '/'\n",
    "save(path)\n",
    "\n",
    "#last path//\n",
    "path_last = 'confusion_learning/results/hysteresis/last/'\n",
    "save(path_last)"
   ]
  },
  {
   "cell_type": "code",
   "execution_count": null,
   "metadata": {},
   "outputs": [],
   "source": []
  }
 ],
 "metadata": {
  "kernelspec": {
   "display_name": "Python (hamiltonian_learning)",
   "language": "python",
   "name": "hamiltonian_learning"
  },
  "language_info": {
   "codemirror_mode": {
    "name": "ipython",
    "version": 3
   },
   "file_extension": ".py",
   "mimetype": "text/x-python",
   "name": "python",
   "nbconvert_exporter": "python",
   "pygments_lexer": "ipython3",
   "version": "3.7.4"
  },
  "latex_envs": {
   "LaTeX_envs_menu_present": true,
   "autoclose": false,
   "autocomplete": true,
   "bibliofile": "biblio.bib",
   "cite_by": "apalike",
   "current_citInitial": 1,
   "eqLabelWithNumbers": true,
   "eqNumInitial": 1,
   "hotkeys": {
    "equation": "Ctrl-E",
    "itemize": "Ctrl-I"
   },
   "labels_anchors": false,
   "latex_user_defs": false,
   "report_style_numbering": false,
   "user_envs_cfg": false
  },
  "varInspector": {
   "cols": {
    "lenName": 16,
    "lenType": 16,
    "lenVar": 40
   },
   "kernels_config": {
    "python": {
     "delete_cmd_postfix": "",
     "delete_cmd_prefix": "del ",
     "library": "var_list.py",
     "varRefreshCmd": "print(var_dic_list())"
    },
    "r": {
     "delete_cmd_postfix": ") ",
     "delete_cmd_prefix": "rm(",
     "library": "var_list.r",
     "varRefreshCmd": "cat(var_dic_list()) "
    }
   },
   "types_to_exclude": [
    "module",
    "function",
    "builtin_function_or_method",
    "instance",
    "_Feature"
   ],
   "window_display": false
  }
 },
 "nbformat": 4,
 "nbformat_minor": 2
}
