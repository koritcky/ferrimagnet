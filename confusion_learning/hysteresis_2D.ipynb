{
 "cells": [
  {
   "cell_type": "code",
   "execution_count": 1,
   "metadata": {
    "ExecuteTime": {
     "end_time": "2020-08-18T11:25:17.668479Z",
     "start_time": "2020-08-18T11:25:14.635944Z"
    },
    "scrolled": true
   },
   "outputs": [
    {
     "name": "stdout",
     "output_type": "stream",
     "text": [
      "The autoreload extension is already loaded. To reload it, use:\n",
      "  %reload_ext autoreload\n"
     ]
    },
    {
     "data": {
      "application/javascript": [
       "if (!(\"Notification\" in window)) {\n",
       "    alert(\"This browser does not support desktop notifications, so the %%notify magic will not work.\");\n",
       "} else if (Notification.permission !== 'granted' && Notification.permission !== 'denied') {\n",
       "    Notification.requestPermission(function (permission) {\n",
       "        if(!('permission' in Notification)) {\n",
       "            Notification.permission = permission;\n",
       "        }\n",
       "    })\n",
       "}\n"
      ],
      "text/plain": [
       "<IPython.core.display.Javascript object>"
      ]
     },
     "metadata": {},
     "output_type": "display_data"
    }
   ],
   "source": [
    "import os, sys, shutil\n",
    "os.chdir('/home/koritskiy/rqc/ferrimagnet')\n",
    "from datetime import datetime\n",
    "\n",
    "\n",
    "from mpl_toolkits.mplot3d import axes3d\n",
    "import matplotlib.pyplot as plt\n",
    "\n",
    "\n",
    "from confusion_learning.energy import *\n",
    "from confusion_learning.modules_2D_ferro import *\n",
    "\n",
    "\n",
    "from tqdm.notebook import tqdm\n",
    "np.set_printoptions(suppress=True)\n",
    "%load_ext autoreload\n",
    "%autoreload 2\n",
    "%load_ext jupyternotify\n",
    "%autonotify -a 5"
   ]
  },
  {
   "cell_type": "code",
   "execution_count": 2,
   "metadata": {
    "ExecuteTime": {
     "end_time": "2020-08-18T11:25:18.085820Z",
     "start_time": "2020-08-18T11:25:18.059278Z"
    }
   },
   "outputs": [],
   "source": [
    "def hysteresis(theta, a, b):\n",
    "    return a * (np.sin(theta)) ** 2 + b * np.cos(theta)"
   ]
  },
  {
   "cell_type": "code",
   "execution_count": 3,
   "metadata": {
    "ExecuteTime": {
     "end_time": "2020-08-18T11:25:18.510367Z",
     "start_time": "2020-08-18T11:25:18.471703Z"
    }
   },
   "outputs": [],
   "source": [
    "def flipped_hysteresis(theta, a, b):\n",
    "    \"\"\"a -> b, b -> a\"\"\"\n",
    "    return b * (np.sin(theta)) ** 2 + a * np.cos(theta)"
   ]
  },
  {
   "cell_type": "code",
   "execution_count": 4,
   "metadata": {
    "ExecuteTime": {
     "end_time": "2020-08-18T11:25:18.917924Z",
     "start_time": "2020-08-18T11:25:18.885826Z"
    }
   },
   "outputs": [],
   "source": [
    "def save(path, params, data):\n",
    "    try:\n",
    "        shutil.rmtree(path)\n",
    "    except OSError:\n",
    "        pass\n",
    "    os.mkdir(path)\n",
    "    \n",
    "    #params\n",
    "    f = open(path + \"/info.txt\",\"w+\")\n",
    "    for p in params:\n",
    "        f.write(p + ': '+ str(params[p]) + '\\n')\n",
    "    f.close()\n",
    "    \n",
    "    #data\n",
    "    for d in data:\n",
    "        np.savetxt(path + d + '.dat', data[d])"
   ]
  },
  {
   "cell_type": "code",
   "execution_count": null,
   "metadata": {
    "ExecuteTime": {
     "start_time": "2020-08-18T12:24:13.502Z"
    },
    "scrolled": false
   },
   "outputs": [
    {
     "data": {
      "application/vnd.jupyter.widget-view+json": {
       "model_id": "6b081c16912c45ba901619eef72a9edf",
       "version_major": 2,
       "version_minor": 0
      },
      "text/plain": [
       "HBox(children=(FloatProgress(value=1.0, bar_style='info', max=1.0), HTML(value='')))"
      ]
     },
     "metadata": {},
     "output_type": "display_data"
    },
    {
     "data": {
      "application/vnd.jupyter.widget-view+json": {
       "model_id": "90f420f90ea2490a92ddce25e0e93544",
       "version_major": 2,
       "version_minor": 0
      },
      "text/plain": [
       "HBox(children=(FloatProgress(value=0.0, max=30.0), HTML(value='')))"
      ]
     },
     "metadata": {},
     "output_type": "display_data"
    }
   ],
   "source": [
    "A_range = [0.1, 0.6]\n",
    "B_range = [0, 3 * (10 ** 5)]\n",
    "n_X = 100\n",
    "n_H = 100\n",
    "n_thetas = 30\n",
    "n_samples = 30\n",
    "params = {'X_range': X_range,\n",
    "          'H_range': H_range,\n",
    "          'n_X': n_X,\n",
    "          'n_H': n_H,\n",
    "          'n_thetas': n_thetas,\n",
    "          'n_samples': n_samples}\n",
    "\n",
    "\n",
    "\n",
    "X = np.linspace(X_range[0], X_range[1], n_X)\n",
    "H = np.linspace(H_range[0], H_range[1], n_H)\n",
    "Z, _, _ = mainloop(X, H, n_thetas, n_samples)\n",
    "data = {'X': X,\n",
    "        'H': H,\n",
    "        'Z': Z}\n",
    "\n",
    "time = datetime.today().strftime('%Y-%m-%d-%H:%M:%S')\n",
    "path_now = 'confusion_learning/results/2d/' + time + '/'\n",
    "path_last = 'confusion_learning/results/2d/last/'\n",
    "\n",
    "save(path_now, params, data)\n",
    "save(path_last, params, data)"
   ]
  },
  {
   "cell_type": "code",
   "execution_count": null,
   "metadata": {},
   "outputs": [],
   "source": []
  }
 ],
 "metadata": {
  "kernelspec": {
   "display_name": "Python (hamiltonian_learning)",
   "language": "python",
   "name": "hamiltonian_learning"
  },
  "language_info": {
   "codemirror_mode": {
    "name": "ipython",
    "version": 3
   },
   "file_extension": ".py",
   "mimetype": "text/x-python",
   "name": "python",
   "nbconvert_exporter": "python",
   "pygments_lexer": "ipython3",
   "version": "3.7.4"
  },
  "latex_envs": {
   "LaTeX_envs_menu_present": true,
   "autoclose": false,
   "autocomplete": true,
   "bibliofile": "biblio.bib",
   "cite_by": "apalike",
   "current_citInitial": 1,
   "eqLabelWithNumbers": true,
   "eqNumInitial": 1,
   "hotkeys": {
    "equation": "Ctrl-E",
    "itemize": "Ctrl-I"
   },
   "labels_anchors": false,
   "latex_user_defs": false,
   "report_style_numbering": false,
   "user_envs_cfg": false
  },
  "varInspector": {
   "cols": {
    "lenName": 16,
    "lenType": 16,
    "lenVar": 40
   },
   "kernels_config": {
    "python": {
     "delete_cmd_postfix": "",
     "delete_cmd_prefix": "del ",
     "library": "var_list.py",
     "varRefreshCmd": "print(var_dic_list())"
    },
    "r": {
     "delete_cmd_postfix": ") ",
     "delete_cmd_prefix": "rm(",
     "library": "var_list.r",
     "varRefreshCmd": "cat(var_dic_list()) "
    }
   },
   "types_to_exclude": [
    "module",
    "function",
    "builtin_function_or_method",
    "instance",
    "_Feature"
   ],
   "window_display": false
  }
 },
 "nbformat": 4,
 "nbformat_minor": 2
}
